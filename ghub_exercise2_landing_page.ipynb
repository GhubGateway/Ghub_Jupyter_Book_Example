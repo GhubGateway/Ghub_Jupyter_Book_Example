{
 "cells": [
  {
   "cell_type": "markdown",
   "id": "be4f73f3",
   "metadata": {},
   "source": [
    "## Ghub Exercise 2\n"
   ]
  },
  {
   "cell_type": "code",
   "execution_count": 1,
   "id": "afc173d2",
   "metadata": {},
   "outputs": [
    {
     "name": "stdout",
     "output_type": "stream",
     "text": [
      "os.environ['PATH']:  /Users/renettej/opt/anaconda3/bin:/Users/renettej/opt/anaconda3/condabin:/usr/local/bin:/usr/bin:/bin:/usr/sbin:/sbin:/opt/X11/bin:/Library/TeX/texbin\n",
      "sys.path:  ['/Users/renettej/AAA_Github/ghub_exercise2', '/Users/renettej/AAA_Github/ghub_exercise2/bin', '/Users/renettej/AAA_Github/ghub_exercise2/lib', '/Users/renettej/opt/anaconda3/lib/python38.zip', '/Users/renettej/opt/anaconda3/lib/python3.8', '/Users/renettej/opt/anaconda3/lib/python3.8/lib-dynload', '', '/Users/renettej/opt/anaconda3/lib/python3.8/site-packages', '/Users/renettej/opt/anaconda3/lib/python3.8/site-packages/aeosa', '/Users/renettej/opt/anaconda3/lib/python3.8/site-packages/locket-0.2.1-py3.8.egg', '/Users/renettej/opt/anaconda3/lib/python3.8/site-packages/IPython/extensions', '/Users/renettej/.ipython']\n"
     ]
    }
   ],
   "source": [
    "#import atexit\n",
    "import numpy as np\n",
    "import os\n",
    "import sys\n",
    "import time\n",
    "\n",
    "from IPython.display import display, HTML, Markdown, IFrame, clear_output\n",
    "import ipywidgets as widgets\n",
    "\n",
    "#def exit_handler():\n",
    "#atexit.register(exit_handler);   \n",
    "\n",
    "widget_border_style = '1px solid black'\n",
    "button_width = '400px'\n",
    "button_height = '40px'\n",
    "\n",
    "print (\"os.environ['PATH']: \", os.environ['PATH'])\n",
    "print ('sys.path: ', sys.path)\n"
   ]
  },
  {
   "cell_type": "code",
   "execution_count": 2,
   "id": "292c4d6f",
   "metadata": {},
   "outputs": [],
   "source": [
    "#print ('sys.path: ', sys.path)"
   ]
  },
  {
   "cell_type": "code",
   "execution_count": 3,
   "id": "6caae347",
   "metadata": {},
   "outputs": [],
   "source": [
    "import Utils\n",
    "# Verify access to the glaft package\n",
    "#help (glaft)"
   ]
  },
  {
   "cell_type": "code",
   "execution_count": 4,
   "id": "c437e7f7",
   "metadata": {},
   "outputs": [],
   "source": [
    "#https://api.jquery.com/ready/\n",
    "HTML('''\n",
    "<script>\n",
    "    function scroll_to_top() {\n",
    "        Jupyter.notebook.scroll_to_top();\n",
    "    } \n",
    "    $( window ).on( \"load\", scroll_to_top() );\n",
    "</script>\n",
    "''');"
   ]
  },
  {
   "cell_type": "code",
   "execution_count": 5,
   "id": "3cb6d1da",
   "metadata": {},
   "outputs": [
    {
     "data": {
      "application/javascript": [
       "IPython.OutputArea.prototype._should_scroll = function(lines) {\n",
       "    return false;\n",
       "}\n"
      ],
      "text/plain": [
       "<IPython.core.display.Javascript object>"
      ]
     },
     "metadata": {},
     "output_type": "display_data"
    }
   ],
   "source": [
    "%%javascript\n",
    "IPython.OutputArea.prototype._should_scroll = function(lines) {\n",
    "    return false;\n",
    "}"
   ]
  },
  {
   "cell_type": "code",
   "execution_count": 6,
   "id": "4ff745f8",
   "metadata": {},
   "outputs": [
    {
     "data": {
      "text/html": [
       "\n",
       "<style>.buttontextclass { color:indigo ; font-size:130%}</style>\n",
       "<style>.formtextclass { color:indigo ; font-size:130%}</style>\n"
      ],
      "text/plain": [
       "<IPython.core.display.HTML object>"
      ]
     },
     "execution_count": 6,
     "metadata": {},
     "output_type": "execute_result"
    }
   ],
   "source": [
    "HTML('''\n",
    "<style>.buttontextclass { color:indigo ; font-size:130%}</style>\n",
    "<style>.formtextclass { color:indigo ; font-size:130%}</style>\n",
    "''')"
   ]
  },
  {
   "cell_type": "code",
   "execution_count": 7,
   "id": "57b20d6d",
   "metadata": {},
   "outputs": [],
   "source": [
    "html_filepath = './jupyter-book/_build/html/index.html'\n",
    "html_ref = \"<a href='%s' target='_blank'>Click to open the GLAFT Jupyter Book in a new window</a>\" %html_filepath\n",
    "#print ('ref: ', ref)\n",
    "\n",
    "#html = HTML(html_filepath).data\n",
    "#print (type(html))\n",
    "#print (len(html))\n",
    "#print (html)"
   ]
  },
  {
   "cell_type": "code",
   "execution_count": 8,
   "id": "71cc7f95",
   "metadata": {},
   "outputs": [],
   "source": [
    "# Displays and formats properly. Displays in a new window:"
   ]
  },
  {
   "cell_type": "code",
   "execution_count": 9,
   "id": "9ce847f2",
   "metadata": {},
   "outputs": [],
   "source": [
    "#Read more [here](./glaft_jupyter-book/_build/html/index.html) # Change cell to Markdown"
   ]
  },
  {
   "cell_type": "code",
   "execution_count": 10,
   "id": "040f4f1b",
   "metadata": {},
   "outputs": [
    {
     "data": {
      "application/vnd.jupyter.widget-view+json": {
       "model_id": "4fe1bda662ed4db48939d83ffb32cb32",
       "version_major": 2,
       "version_minor": 0
      },
      "text/plain": [
       "Output()"
      ]
     },
     "metadata": {},
     "output_type": "display_data"
    }
   ],
   "source": [
    "html_output_1 = widgets.Output()#(layout={'border': widget_border_style})\n",
    "display(html_output_1)\n",
    "\n",
    "#html_output_2 = widgets.Output(layout={'border': widget_border_style})\n",
    "#display(html_output_2)\n",
    "\n",
    "with html_output_1:\n",
    "    clear_output()\n",
    "    \n",
    "    # Displays and formats properly. Displays in the Jupyter Notebook\n",
    "    if os.path.exists(html_filepath):\n",
    "        display(IFrame(src=html_filepath, width=1300, height=1600))\n",
    "    else:\n",
    "        print ('%s does not exist. Click the Build the GLAFT Jupyter Book button.' %html_filepath)\n",
    "    \n",
    "#with html_output_2:\n",
    "    #clear_output()\n",
    "    \n",
    "    # Displays and formats properly. Displays in a new window\n",
    "    #if os.path.exists(html_filepath):\n",
    "        #display(Markdown(\"\"\"## {0}\"\"\".format(html_ref)))\n",
    "    #else:\n",
    "        #print ('%s does not exist. Click the Build the GLAFT Jupyter Book button.' %html_filepath)\n",
    "        "
   ]
  },
  {
   "cell_type": "code",
   "execution_count": 11,
   "id": "69a46eef",
   "metadata": {},
   "outputs": [],
   "source": [
    "# See https://jupyterbook.org/en/stable/start/your-first-book.html\n",
    "# Usage: jupyter-book [OPTIONS] COMMAND [ARGS]...\n",
    "#\n",
    "#     Build and manage books with Jupyter.\n",
    "#\n",
    "# Options:\n",
    "#     --version   Show the version and exit.\n",
    "#     -h, --help  Show this message and exit.\n",
    "#\n",
    "# Commands:\n",
    "#     build   Convert your book's or page's content to HTML or a PDF.\n",
    "#     clean   Empty the _build directory except jupyter_cache.\n",
    "#     config  Inspect your _config.yml file.\n",
    "#     create  Create a Jupyter Book template that you can customize.\n",
    "#     myst    Manipulate MyST markdown files.\n",
    "#     toc     Command-line for sphinx-external-toc.\n"
   ]
  },
  {
   "cell_type": "code",
   "execution_count": 12,
   "id": "8f92fb16",
   "metadata": {},
   "outputs": [],
   "source": [
    "clean_jupyter_book_button = widgets.Button(description=\"Clean the GLAFT Jupyter Book\", disabled=False,\\\n",
    "                             layout=widgets.Layout(width=button_width, height=button_height),\\\n",
    "                             style= {'button_color':'lightgray','font_weight':'bold'})\n",
    "#help (clean_jupyter_book_button)\n",
    "clean_jupyter_book_button.add_class(\"buttontextclass\")\n",
    "\n",
    "def clean_jupyter_book_button_callback(p):\n",
    "    \n",
    "    disable_widgets()\n",
    "    \n",
    "    with html_output_1:\n",
    "        clear_output()\n",
    "        \n",
    "    #with html_output_2:\n",
    "        #clear_output()\n",
    "        \n",
    "    with output_log:\n",
    "        clear_output()\n",
    "        \n",
    "        # Clean the ./glaft_jupyter-book/_build directory Jupyter Book\n",
    "\n",
    "        start_time = time.time()\n",
    "        #print ('Please wait approximately .01 minutes for the GLAFT Jupyter Book to clean...')\n",
    "\n",
    "        os.system('jupyter-book clean --all ./jupyter-book/')\n",
    "\n",
    "        elapsed_time = time.time() - start_time\n",
    "        print ('Done. Elapsed_time: ', np.round(elapsed_time/60.0, 2), ' [min]')\n",
    "        \n",
    "    enable_widgets()\n",
    "\n",
    "clean_jupyter_book_button.on_click (clean_jupyter_book_button_callback)\n",
    "\n"
   ]
  },
  {
   "cell_type": "code",
   "execution_count": 13,
   "id": "31252274",
   "metadata": {},
   "outputs": [],
   "source": [
    "build_jupyter_book_button = widgets.Button(description=\"Build the GLAFT Jupyter Book\", disabled=False,\\\n",
    "                             layout=widgets.Layout(width=button_width, height=button_height),\\\n",
    "                             style= {'button_color':'lightgray','font_weight':'bold'})\n",
    "#help (build_jupyter_book_button)\n",
    "build_jupyter_book_button.add_class(\"buttontextclass\")\n",
    "\n",
    "def build_jupyter_book_button_callback(p):\n",
    "    \n",
    "    disable_widgets()\n",
    "\n",
    "    with html_output_1:\n",
    "        clear_output()\n",
    "        \n",
    "    #with html_output_2:\n",
    "        #clear_output()\n",
    "        \n",
    "    with output_log:\n",
    "        \n",
    "        clear_output()\n",
    "        \n",
    "        # Build the ./glaft_jupyter-book/_build directory Jupyter Book \n",
    "\n",
    "        # Notes for developers:\n",
    "        # _config.yml execute_notebooks set to 'auto'.\n",
    "        # _config.yml timeout set to -1, as noted,\n",
    "        # synthetic_displacement/validation_synthetic takes some time to complete -- ~15-20 minutes\n",
    "\n",
    "        start_time = time.time()\n",
    "        #print ('Please wait approximately 25 minutes for the GLAFT Jupyter Book to build...')\n",
    "\n",
    "        # -W -n treat Warnings as errors\n",
    "        # For debugging\n",
    "        #os.system('jupyter-book build --all -W -n --keep-going ./glaft_jupyter-book/')\n",
    "        os.system('jupyter-book build --all ./jupyter-book/')\n",
    "\n",
    "        elapsed_time = time.time() - start_time\n",
    "        print ('Done. Elapsed_time: ', np.round(elapsed_time/60.0, 2), ' [min]')\n",
    "        \n",
    "        # Note: build returning Non-consecutive header level increase; 0 to 2 [myst.header] Warnings.\n",
    "        # See: https://github.com/executablebooks/jupyter-book/issues/1726\n",
    "        \n",
    "    with html_output_1:\n",
    "        \n",
    "        display(IFrame(src=html_filepath, width=1300, height=1600))\n",
    "        \n",
    "    #with html_output_2:\n",
    "    \n",
    "        #display(Markdown(\"\"\"## {0}\"\"\".format(html_ref)))\n",
    "        \n",
    "    enable_widgets()\n",
    "    \n",
    "build_jupyter_book_button.on_click (build_jupyter_book_button_callback)\n"
   ]
  },
  {
   "cell_type": "code",
   "execution_count": 14,
   "id": "54f3cf9c",
   "metadata": {},
   "outputs": [],
   "source": [
    "clear_output_log_button = widgets.Button(description=\"Clear Output Log\", disabled=False,\\\n",
    "                             layout=widgets.Layout(width=button_width, height=button_height),\\\n",
    "                             style= {'button_color':'lightgray','font_weight':'bold'})\n",
    "#help (clear_output_log_button)\n",
    "clear_output_log_button.add_class(\"buttontextclass\")\n",
    "\n",
    "def clear_output_log_button_callback(p):\n",
    "    \n",
    "    disable_widgets()\n",
    "    \n",
    "    with output_log:\n",
    "        clear_output()\n",
    "                \n",
    "    enable_widgets()\n",
    "\n",
    "clear_output_log_button.on_click (clear_output_log_button_callback)\n"
   ]
  },
  {
   "cell_type": "code",
   "execution_count": 15,
   "id": "648d2aba",
   "metadata": {},
   "outputs": [
    {
     "data": {
      "application/vnd.jupyter.widget-view+json": {
       "model_id": "0b2e18456a384733b07370b0058866a8",
       "version_major": 2,
       "version_minor": 0
      },
      "text/plain": [
       "Output(layout=Layout(border='1px solid black'))"
      ]
     },
     "metadata": {},
     "output_type": "display_data"
    }
   ],
   "source": [
    "buttons_output = widgets.Output(layout={'border': widget_border_style})\n",
    "display (buttons_output)\n"
   ]
  },
  {
   "cell_type": "code",
   "execution_count": 16,
   "id": "e7f32e07",
   "metadata": {},
   "outputs": [
    {
     "data": {
      "application/vnd.jupyter.widget-view+json": {
       "model_id": "f8e09a99de1443acbe7b629675e36599",
       "version_major": 2,
       "version_minor": 0
      },
      "text/plain": [
       "Output(layout=Layout(border='1px solid black'))"
      ]
     },
     "metadata": {},
     "output_type": "display_data"
    }
   ],
   "source": [
    "output_log = widgets.Output(layout={'border': widget_border_style})\n",
    "display (output_log)\n"
   ]
  },
  {
   "cell_type": "code",
   "execution_count": 17,
   "id": "a55cd14f",
   "metadata": {},
   "outputs": [],
   "source": [
    "def disable_widgets():\n",
    "    clean_jupyter_book_button.disabled = True\n",
    "    build_jupyter_book_button.disabled = True\n",
    "    clear_output_log_button.disabled = True"
   ]
  },
  {
   "cell_type": "code",
   "execution_count": 18,
   "id": "85f416b3",
   "metadata": {},
   "outputs": [],
   "source": [
    "def enable_widgets():\n",
    "    clean_jupyter_book_button.disabled = False\n",
    "    build_jupyter_book_button.disabled = False\n",
    "    clear_output_log_button.disabled = False"
   ]
  },
  {
   "cell_type": "code",
   "execution_count": 19,
   "id": "926124c1",
   "metadata": {},
   "outputs": [],
   "source": [
    "with buttons_output:\n",
    "    display(clean_jupyter_book_button)\n",
    "    display(build_jupyter_book_button)\n",
    "    display(clear_output_log_button)\n"
   ]
  }
 ],
 "metadata": {
  "kernelspec": {
   "display_name": "Python 3",
   "language": "python",
   "name": "python3"
  },
  "language_info": {
   "codemirror_mode": {
    "name": "ipython",
    "version": 3
   },
   "file_extension": ".py",
   "mimetype": "text/x-python",
   "name": "python",
   "nbconvert_exporter": "python",
   "pygments_lexer": "ipython3",
   "version": "3.8.8"
  }
 },
 "nbformat": 4,
 "nbformat_minor": 5
}
