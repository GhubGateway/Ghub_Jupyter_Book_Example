{
 "cells": [
  {
   "cell_type": "markdown",
   "id": "581a5f55",
   "metadata": {},
   "source": [
    "# ghub_exercise2_landing_page"
   ]
  },
  {
   "cell_type": "code",
   "execution_count": 1,
   "id": "f7009d12",
   "metadata": {},
   "outputs": [
    {
     "name": "stdout",
     "output_type": "stream",
     "text": [
      "Operating System Platform: Darwin 17.7.0\n",
      "\n",
      "\n",
      "os.environ['PATH']:  /Users/renettej/opt/anaconda3/bin:/Users/renettej/opt/anaconda3/condabin:/usr/local/bin:/usr/bin:/bin:/usr/sbin:/sbin:/opt/X11/bin:/Library/TeX/texbin\n",
      "sys.path:  ['/Users/renettej/Documents/GitHub/ghub_exercise2', '/Users/renettej/Documents/GitHub/lib', '/Users/renettej/opt/anaconda3/lib/python38.zip', '/Users/renettej/opt/anaconda3/lib/python3.8', '/Users/renettej/opt/anaconda3/lib/python3.8/lib-dynload', '', '/Users/renettej/opt/anaconda3/lib/python3.8/site-packages', '/Users/renettej/opt/anaconda3/lib/python3.8/site-packages/aeosa', '/Users/renettej/opt/anaconda3/lib/python3.8/site-packages/locket-0.2.1-py3.8.egg', '/Users/renettej/opt/anaconda3/lib/python3.8/site-packages/IPython/extensions', '/Users/renettej/.ipython']\n",
      "\n",
      "\n",
      "Environment:\n",
      "\n",
      "libdir: /Users/renettej/Documents/GitHub/lib\n",
      "jupyter_book_dirpath:  ./jupyter-book\n",
      "html_dirpath:  ./jupyter-book/_build/html\n",
      "html_filepath:  ./jupyter-book/_build/html/index.html\n",
      "\n",
      "\n"
     ]
    }
   ],
   "source": [
    "# Jupyter Book reference: https://jupyterbook.org/en/stable/intro.html\n",
    "# Jupyter Book Zenodo reference: https://doi.org/10.5281/zenodo.2561065 \n",
    "\n",
    "import atexit\n",
    "import os\n",
    "import platform\n",
    "import sys\n",
    "\n",
    "from IPython.display import display, IFrame, HTML, Markdown, clear_output\n",
    "import ipywidgets as widgets\n",
    "\n",
    "scriptpath = os.path.realpath(\".\")\n",
    "\n",
    "# Set up path to the tool directory\n",
    "self_tooldir = os.path.dirname(scriptpath)\n",
    "# Add ./lib to PYTHONPATH.\n",
    "# Note: the ./middleware/invoke script will handle this when this tool is installed\n",
    "self_libdir = os.path.join(self_tooldir, \"lib\")\n",
    "sys.path.insert (1, self_libdir)\n",
    "\n",
    "import Utils as utils\n",
    "# Verify access to the Utils package\n",
    "#help (utils)\n",
    "\n",
    "# Jupyter Book template directory\n",
    "jupyter_book_dirname = 'jupyter-book'\n",
    "jupyter_book_dirpath = './%s' %jupyter_book_dirname\n",
    "html_dirpath = os.path.join(jupyter_book_dirpath, '_build', 'html')\n",
    "html_filepath = os.path.join (html_dirpath, 'index.html')\n",
    "\n",
    "if utils.Configuration.VERBOSE == True:\n",
    "    \n",
    "    print (\"Operating System Platform: \" + platform.system(), platform.release())\n",
    "    print (\"\\n\")\n",
    "\n",
    "    print (\"os.environ['PATH']: \", os.environ['PATH'])\n",
    "    print (\"sys.path: \", sys.path)\n",
    "    print (\"\\n\")\n",
    "\n",
    "    print (\"Environment:\\n\")\n",
    "    print (\"libdir: \" + self_libdir)\n",
    "    print ('jupyter_book_dirpath: ', jupyter_book_dirpath)\n",
    "    print ('html_dirpath: ', html_dirpath)\n",
    "    print ('html_filepath: ', html_filepath)\n",
    "    print (\"\\n\")\n"
   ]
  },
  {
   "cell_type": "code",
   "execution_count": 2,
   "id": "ef6345a9",
   "metadata": {},
   "outputs": [],
   "source": [
    "#jupyter_book_output = widgets.Output()\n",
    "#display (jupyter_book_output)"
   ]
  },
  {
   "cell_type": "code",
   "execution_count": 3,
   "id": "3ebc901f",
   "metadata": {},
   "outputs": [
    {
     "data": {
      "application/vnd.jupyter.widget-view+json": {
       "model_id": "23468a89fc3940518ab74cd7b9ffc6dd",
       "version_major": 2,
       "version_minor": 0
      },
      "text/plain": [
       "Output()"
      ]
     },
     "metadata": {},
     "output_type": "display_data"
    }
   ],
   "source": [
    "build_output = widgets.Output()\n",
    "display (build_output)"
   ]
  },
  {
   "cell_type": "code",
   "execution_count": 4,
   "id": "a46c2804",
   "metadata": {},
   "outputs": [
    {
     "data": {
      "application/vnd.jupyter.widget-view+json": {
       "model_id": "d3f24602c38a4ee1a8b19a71171323dd",
       "version_major": 2,
       "version_minor": 0
      },
      "text/plain": [
       "Output()"
      ]
     },
     "metadata": {},
     "output_type": "display_data"
    }
   ],
   "source": [
    "html_output = widgets.Output()\n",
    "display (html_output)"
   ]
  },
  {
   "cell_type": "code",
   "execution_count": 5,
   "id": "065c54c1",
   "metadata": {},
   "outputs": [],
   "source": [
    "#with jupyter_book_output:\n",
    "#    os.system(\"jupyter-book --version\")\n",
    "#    print (\"\\n\")\n",
    "#    os.system(\"jupyter-book --help\")"
   ]
  },
  {
   "cell_type": "code",
   "execution_count": 6,
   "id": "84ba09f8",
   "metadata": {},
   "outputs": [],
   "source": [
    "with build_output:\n",
    "    \n",
    "    os.system(\"jupyter-book build --all %s\" %jupyter_book_dirpath)\n",
    "\n",
    "    if os.path.exists(html_dirpath):\n",
    "        clear_output()\n",
    "        with html_output:\n",
    "            clear_output()\n",
    "            # Safari and FireFox, aligned properly, image displays and link work\n",
    "            # Chrome and Microsoft Edge, not aligned properly, image does not display, links do not work\n",
    "            display(IFrame(src='%s' %html_filepath, width=1350, height=1350))\n",
    "    else:\n",
    "        print (\"%s does not exist.\" %html_dirpath)"
   ]
  },
  {
   "cell_type": "code",
   "execution_count": 7,
   "id": "014e0442",
   "metadata": {},
   "outputs": [
    {
     "data": {
      "text/markdown": [
       "Click to open: <a href='./jupyter-book/_build/html/index.html' target='_blank'>index.html</a>"
      ],
      "text/plain": [
       "<IPython.core.display.Markdown object>"
      ]
     },
     "metadata": {},
     "output_type": "display_data"
    }
   ],
   "source": [
    "# Safari, aligned properly, image displays and link work\n",
    "# Chrome, not aligned properly, image does not display, links do not work\n",
    "url = html_filepath\n",
    "#print (url)\n",
    "\n",
    "ref = \"<a href='%s'\" %url  + \" target='_blank'>index.html</a>\"\n",
    "#print (ref)\n",
    "display(Markdown(\"\"\"Click to open: {0}\"\"\".format(ref)))\n"
   ]
  },
  {
   "cell_type": "code",
   "execution_count": 8,
   "id": "f70a7ee1",
   "metadata": {},
   "outputs": [],
   "source": [
    "def exit_handler():\n",
    "    \n",
    "    os.system(\"jupyter-book clean --all %s\" %jupyter_book_dirpath)\n",
    "    \n",
    "atexit.register(exit_handler);   "
   ]
  }
 ],
 "metadata": {
  "kernelspec": {
   "display_name": "Python 3",
   "language": "python",
   "name": "python3"
  },
  "language_info": {
   "codemirror_mode": {
    "name": "ipython",
    "version": 3
   },
   "file_extension": ".py",
   "mimetype": "text/x-python",
   "name": "python",
   "nbconvert_exporter": "python",
   "pygments_lexer": "ipython3",
   "version": "3.8.8"
  }
 },
 "nbformat": 4,
 "nbformat_minor": 5
}
