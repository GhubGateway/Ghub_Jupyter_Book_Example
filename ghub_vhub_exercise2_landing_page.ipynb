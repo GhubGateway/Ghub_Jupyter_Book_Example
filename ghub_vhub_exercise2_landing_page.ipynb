{
 "cells": [
  {
   "cell_type": "markdown",
   "metadata": {},
   "source": [
    "## GLAFT\n"
   ]
  },
  {
   "cell_type": "code",
   "execution_count": 1,
   "metadata": {},
   "outputs": [],
   "source": [
    "#import atexit\n",
    "import numpy as np\n",
    "import os\n",
    "import sys\n",
    "import time\n",
    "\n",
    "from IPython.display import display, HTML, Markdown, IFrame, clear_output\n",
    "import ipywidgets as widgets\n",
    "\n",
    "#def exit_handler():\n",
    "#atexit.register(exit_handler);   \n",
    "\n",
    "widget_border_style = '1px solid black'\n",
    "button_width = '400px'\n",
    "button_height = '40px'\n"
   ]
  },
  {
   "cell_type": "code",
   "execution_count": 2,
   "metadata": {},
   "outputs": [],
   "source": [
    "#print ('sys.path: ', sys.path)"
   ]
  },
  {
   "cell_type": "code",
   "execution_count": 3,
   "metadata": {},
   "outputs": [],
   "source": [
    "import glaft\n",
    "# Verify access to the glaft package\n",
    "#help (glaft)"
   ]
  },
  {
   "cell_type": "code",
   "execution_count": 4,
   "metadata": {},
   "outputs": [],
   "source": [
    "#https://api.jquery.com/ready/\n",
    "HTML('''\n",
    "<script>\n",
    "    function scroll_to_top() {\n",
    "        Jupyter.notebook.scroll_to_top();\n",
    "    } \n",
    "    $( window ).on( \"load\", scroll_to_top() );\n",
    "</script>\n",
    "''');"
   ]
  },
  {
   "cell_type": "code",
   "execution_count": 5,
   "metadata": {},
   "outputs": [
    {
     "data": {
      "application/javascript": [
       "IPython.OutputArea.prototype._should_scroll = function(lines) {\n",
       "    return false;\n",
       "}\n"
      ],
      "text/plain": [
       "<IPython.core.display.Javascript object>"
      ]
     },
     "metadata": {},
     "output_type": "display_data"
    }
   ],
   "source": [
    "%%javascript\n",
    "IPython.OutputArea.prototype._should_scroll = function(lines) {\n",
    "    return false;\n",
    "}"
   ]
  },
  {
   "cell_type": "code",
   "execution_count": 6,
   "metadata": {},
   "outputs": [
    {
     "data": {
      "text/html": [
       "\n",
       "<style>.buttontextclass { color:indigo ; font-size:130%}</style>\n",
       "<style>.formtextclass { color:indigo ; font-size:130%}</style>\n"
      ],
      "text/plain": [
       "<IPython.core.display.HTML object>"
      ]
     },
     "execution_count": 6,
     "metadata": {},
     "output_type": "execute_result"
    }
   ],
   "source": [
    "HTML('''\n",
    "<style>.buttontextclass { color:indigo ; font-size:130%}</style>\n",
    "<style>.formtextclass { color:indigo ; font-size:130%}</style>\n",
    "''')"
   ]
  },
  {
   "cell_type": "code",
   "execution_count": 7,
   "metadata": {},
   "outputs": [],
   "source": [
    "html_filepath = './glaft_jupyter-book/_build/html/index.html'\n",
    "html_ref = \"<a href='%s' target='_blank'>Click to open the GLAFT Jupyter Book in a new window</a>\" %html_filepath\n",
    "#print ('ref: ', ref)\n",
    "\n",
    "#html = HTML(html_filepath).data\n",
    "#print (type(html))\n",
    "#print (len(html))\n",
    "#print (html)"
   ]
  },
  {
   "cell_type": "code",
   "execution_count": 8,
   "metadata": {},
   "outputs": [],
   "source": [
    "# Displays and formats properly. Displays in a new window:"
   ]
  },
  {
   "cell_type": "code",
   "execution_count": 9,
   "metadata": {},
   "outputs": [],
   "source": [
    "#Read more [here](./glaft_jupyter-book/_build/html/index.html) # Change cell to Markdown"
   ]
  },
  {
   "cell_type": "code",
   "execution_count": 10,
   "metadata": {},
   "outputs": [
    {
     "data": {
      "application/vnd.jupyter.widget-view+json": {
       "model_id": "0db1a263368846d399e5a1f5293c153a",
       "version_major": 2,
       "version_minor": 0
      },
      "text/plain": [
       "Output()"
      ]
     },
     "metadata": {},
     "output_type": "display_data"
    }
   ],
   "source": [
    "html_output_1 = widgets.Output()#(layout={'border': widget_border_style})\n",
    "display(html_output_1)\n",
    "\n",
    "#html_output_2 = widgets.Output(layout={'border': widget_border_style})\n",
    "#display(html_output_2)\n",
    "\n",
    "with html_output_1:\n",
    "    clear_output()\n",
    "    \n",
    "    # Displays and formats properly. Displays in the Jupyter Notebook\n",
    "    if os.path.exists(html_filepath):\n",
    "        display(IFrame(src=html_filepath, width=1300, height=1600))\n",
    "    else:\n",
    "        print ('%s does not exist. Click the Build the GLAFT Jupyter Book button.' %html_filepath)\n",
    "    \n",
    "#with html_output_2:\n",
    "    #clear_output()\n",
    "    \n",
    "    # Displays and formats properly. Displays in a new window\n",
    "    #if os.path.exists(html_filepath):\n",
    "        #display(Markdown(\"\"\"## {0}\"\"\".format(html_ref)))\n",
    "    #else:\n",
    "        #print ('%s does not exist. Click the Build the GLAFT Jupyter Book button.' %html_filepath)\n",
    "        "
   ]
  },
  {
   "cell_type": "code",
   "execution_count": 11,
   "metadata": {},
   "outputs": [],
   "source": [
    "# See https://jupyterbook.org/en/stable/start/your-first-book.html\n",
    "# Usage: jupyter-book [OPTIONS] COMMAND [ARGS]...\n",
    "#\n",
    "#     Build and manage books with Jupyter.\n",
    "#\n",
    "# Options:\n",
    "#     --version   Show the version and exit.\n",
    "#     -h, --help  Show this message and exit.\n",
    "#\n",
    "# Commands:\n",
    "#     build   Convert your book's or page's content to HTML or a PDF.\n",
    "#     clean   Empty the _build directory except jupyter_cache.\n",
    "#     config  Inspect your _config.yml file.\n",
    "#     create  Create a Jupyter Book template that you can customize.\n",
    "#     myst    Manipulate MyST markdown files.\n",
    "#     toc     Command-line for sphinx-external-toc.\n"
   ]
  },
  {
   "cell_type": "code",
   "execution_count": 12,
   "metadata": {},
   "outputs": [],
   "source": [
    "clean_jupyter_book_button = widgets.Button(description=\"Clean the GLAFT Jupyter Book\", disabled=False,\\\n",
    "                             layout=widgets.Layout(width=button_width, height=button_height),\\\n",
    "                             style= {'button_color':'lightgray','font_weight':'bold'})\n",
    "#help (clean_jupyter_book_button)\n",
    "clean_jupyter_book_button.add_class(\"buttontextclass\")\n",
    "\n",
    "def clean_jupyter_book_button_callback(p):\n",
    "    \n",
    "    disable_widgets()\n",
    "    \n",
    "    with html_output_1:\n",
    "        clear_output()\n",
    "        \n",
    "    #with html_output_2:\n",
    "        #clear_output()\n",
    "        \n",
    "    with output_log:\n",
    "        clear_output()\n",
    "        \n",
    "        # Clean the ./glaft_jupyter-book/_build directory Jupyter Book\n",
    "\n",
    "        start_time = time.time()\n",
    "        print ('Please wait approximately .01 minutes for the GLAFT Jupyter Book to clean...')\n",
    "\n",
    "        os.system('jupyter-book clean --all ./glaft_jupyter-book/')\n",
    "\n",
    "        elapsed_time = time.time() - start_time\n",
    "        print ('Done. Elapsed_time: ', np.round(elapsed_time/60.0, 2), ' [min]')\n",
    "        \n",
    "    enable_widgets()\n",
    "\n",
    "clean_jupyter_book_button.on_click (clean_jupyter_book_button_callback)\n",
    "\n"
   ]
  },
  {
   "cell_type": "code",
   "execution_count": 13,
   "metadata": {},
   "outputs": [],
   "source": [
    "build_jupyter_book_button = widgets.Button(description=\"Build the GLAFT Jupyter Book\", disabled=False,\\\n",
    "                             layout=widgets.Layout(width=button_width, height=button_height),\\\n",
    "                             style= {'button_color':'lightgray','font_weight':'bold'})\n",
    "#help (build_jupyter_book_button)\n",
    "build_jupyter_book_button.add_class(\"buttontextclass\")\n",
    "\n",
    "def build_jupyter_book_button_callback(p):\n",
    "    \n",
    "    disable_widgets()\n",
    "\n",
    "    with html_output_1:\n",
    "        clear_output()\n",
    "        \n",
    "    #with html_output_2:\n",
    "        #clear_output()\n",
    "        \n",
    "    with output_log:\n",
    "        \n",
    "        clear_output()\n",
    "        \n",
    "        # Build the ./glaft_jupyter-book/_build directory Jupyter Book \n",
    "\n",
    "        # Notes for developers:\n",
    "        # _config.yml execute_notebooks set to 'auto'.\n",
    "        # _config.yml timeout set to -1, as noted,\n",
    "        # synthetic_displacement/validation_synthetic takes some time to complete -- ~15-20 minutes\n",
    "\n",
    "        start_time = time.time()\n",
    "        print ('Please wait approximately 25 minutes for the GLAFT Jupyter Book to build...')\n",
    "\n",
    "        # -W -n treat Warnings as errors\n",
    "        # For debugging\n",
    "        #os.system('jupyter-book build --all -W -n --keep-going ./glaft_jupyter-book/')\n",
    "        os.system('jupyter-book build --all ./glaft_jupyter-book/')\n",
    "\n",
    "        elapsed_time = time.time() - start_time\n",
    "        print ('Done. Elapsed_time: ', np.round(elapsed_time/60.0, 2), ' [min]')\n",
    "        \n",
    "        # Note: build returning Non-consecutive header level increase; 0 to 2 [myst.header] Warnings.\n",
    "        # See: https://github.com/executablebooks/jupyter-book/issues/1726\n",
    "        \n",
    "    with html_output_1:\n",
    "        \n",
    "        display(IFrame(src=html_filepath, width=1300, height=1600))\n",
    "        \n",
    "    #with html_output_2:\n",
    "    \n",
    "        #display(Markdown(\"\"\"## {0}\"\"\".format(html_ref)))\n",
    "        \n",
    "    enable_widgets()\n",
    "    \n",
    "build_jupyter_book_button.on_click (build_jupyter_book_button_callback)\n"
   ]
  },
  {
   "cell_type": "code",
   "execution_count": 14,
   "metadata": {},
   "outputs": [],
   "source": [
    "clear_output_log_button = widgets.Button(description=\"Clear Output Log\", disabled=False,\\\n",
    "                             layout=widgets.Layout(width=button_width, height=button_height),\\\n",
    "                             style= {'button_color':'lightgray','font_weight':'bold'})\n",
    "#help (clear_output_log_button)\n",
    "clear_output_log_button.add_class(\"buttontextclass\")\n",
    "\n",
    "def clear_output_log_button_callback(p):\n",
    "    \n",
    "    disable_widgets()\n",
    "    \n",
    "    with output_log:\n",
    "        clear_output()\n",
    "                \n",
    "    enable_widgets()\n",
    "\n",
    "clear_output_log_button.on_click (clear_output_log_button_callback)\n"
   ]
  },
  {
   "cell_type": "code",
   "execution_count": 15,
   "metadata": {},
   "outputs": [
    {
     "data": {
      "application/vnd.jupyter.widget-view+json": {
       "model_id": "485964ae5388445db91dbb9a6d574da8",
       "version_major": 2,
       "version_minor": 0
      },
      "text/plain": [
       "Output(layout=Layout(border='1px solid black'))"
      ]
     },
     "metadata": {},
     "output_type": "display_data"
    }
   ],
   "source": [
    "buttons_output = widgets.Output(layout={'border': widget_border_style})\n",
    "display (buttons_output)\n"
   ]
  },
  {
   "cell_type": "code",
   "execution_count": 16,
   "metadata": {},
   "outputs": [
    {
     "data": {
      "application/vnd.jupyter.widget-view+json": {
       "model_id": "14b7e38de8f942a2ab79d028bc0b2aaf",
       "version_major": 2,
       "version_minor": 0
      },
      "text/plain": [
       "Output(layout=Layout(border='1px solid black'))"
      ]
     },
     "metadata": {},
     "output_type": "display_data"
    }
   ],
   "source": [
    "output_log = widgets.Output(layout={'border': widget_border_style})\n",
    "display (output_log)\n"
   ]
  },
  {
   "cell_type": "code",
   "execution_count": 17,
   "metadata": {},
   "outputs": [],
   "source": [
    "def disable_widgets():\n",
    "    clean_jupyter_book_button.disabled = True\n",
    "    build_jupyter_book_button.disabled = True\n",
    "    clear_output_log_button.disabled = True"
   ]
  },
  {
   "cell_type": "code",
   "execution_count": 18,
   "metadata": {},
   "outputs": [],
   "source": [
    "def enable_widgets():\n",
    "    clean_jupyter_book_button.disabled = False\n",
    "    build_jupyter_book_button.disabled = False\n",
    "    clear_output_log_button.disabled = False"
   ]
  },
  {
   "cell_type": "code",
   "execution_count": 19,
   "metadata": {},
   "outputs": [],
   "source": [
    "with buttons_output:\n",
    "    display(clean_jupyter_book_button)\n",
    "    display(build_jupyter_book_button)\n",
    "    display(clear_output_log_button)\n"
   ]
  }
 ],
 "metadata": {
  "kernelspec": {
   "display_name": "Python3 (GLAFT)",
   "language": "python",
   "name": "glaft"
  },
  "language_info": {
   "codemirror_mode": {
    "name": "ipython",
    "version": 3
   },
   "file_extension": ".py",
   "mimetype": "text/x-python",
   "name": "python",
   "nbconvert_exporter": "python",
   "pygments_lexer": "ipython3",
   "version": "3.8.13"
  }
 },
 "nbformat": 4,
 "nbformat_minor": 5
}
