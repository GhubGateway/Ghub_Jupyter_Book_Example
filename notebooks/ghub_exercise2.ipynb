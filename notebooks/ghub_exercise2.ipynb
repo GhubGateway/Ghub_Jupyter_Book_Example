{
 "cells": [
  {
   "cell_type": "code",
   "execution_count": 1,
   "metadata": {},
   "outputs": [],
   "source": [
    "#%load_ext autoreload\n",
    "#%autoreload 2"
   ]
  },
  {
   "cell_type": "markdown",
   "metadata": {},
   "source": [
    "## Overview\n",
    "\n",
    "- Exercise to download a SRTM 30m Global 1 arc second V0003 DEM for a selected volcano and convert the DEM to GRASS GIS raster format.\n",
    "- Demonstrates installing a Jupyter Book Github project on Ghub.\n",
    "- Demonstrates running a Ghub Pegasus workflow with python scripts on CCR.\n",
    "\n",
    "## Background\n",
    "\n",
    "- The python scripts are encapsulated as a workflow. The Pegasus Workflow Management System (WMS) automates and manages the execution of the workflow jobs, including staging the jobs, distributing the work, submitting the jobs to run in parallel on CCR, as well as handling data flow dependencies and overcoming job failures. See https://theghub.org/tools/pegtut for an introductory Pegasus tutorial.\n",
    "- This Jupyter-based tool uses Python 3. See https://theghub.org/resources?alias=jupyterexamples for more information on developing Jupyter-based tools on Ghub.\n",
    "- This tool is deployed on Debian 10 to run in Tool or App mode style. See https://theghub.org/kb/development/deploy-styles-for-jupyter-tools for more information on deploying Jupyter-based tools on Ghub.\n",
    "\n"
   ]
  },
  {
   "cell_type": "code",
   "execution_count": 2,
   "metadata": {},
   "outputs": [
    {
     "name": "stdout",
     "output_type": "stream",
     "text": [
      "os.environ['PYTHONPATH']:  /Users/renettej/AAA_Github/ghub_exercise2/bin:/Users/renettej/AAA_Github/ghub_exercise2/lib\n",
      "sys.path:  ['/Users/renettej/AAA_Github/ghub_exercise2/notebooks', '/Users/renettej/AAA_Github/ghub_exercise2/bin', '/Users/renettej/AAA_Github/ghub_exercise2/lib', '/Users/renettej/opt/anaconda3/lib/python38.zip', '/Users/renettej/opt/anaconda3/lib/python3.8', '/Users/renettej/opt/anaconda3/lib/python3.8/lib-dynload', '', '/Users/renettej/opt/anaconda3/lib/python3.8/site-packages', '/Users/renettej/opt/anaconda3/lib/python3.8/site-packages/aeosa', '/Users/renettej/opt/anaconda3/lib/python3.8/site-packages/locket-0.2.1-py3.8.egg', '/Users/renettej/opt/anaconda3/lib/python3.8/site-packages/IPython/extensions', '/Users/renettej/.ipython']\n",
      "self_tooldir:  /Users/renettej/AAA_Github/ghub_exercise2\n",
      "sys.path:  ['/Users/renettej/AAA_Github/ghub_exercise2/notebooks', '/Users/renettej/AAA_Github/ghub_exercise2/bin', '/Users/renettej/AAA_Github/ghub_exercise2/lib', '/Users/renettej/opt/anaconda3/lib/python38.zip', '/Users/renettej/opt/anaconda3/lib/python3.8', '/Users/renettej/opt/anaconda3/lib/python3.8/lib-dynload', '', '/Users/renettej/opt/anaconda3/lib/python3.8/site-packages', '/Users/renettej/opt/anaconda3/lib/python3.8/site-packages/aeosa', '/Users/renettej/opt/anaconda3/lib/python3.8/site-packages/locket-0.2.1-py3.8.egg', '/Users/renettej/opt/anaconda3/lib/python3.8/site-packages/IPython/extensions', '/Users/renettej/.ipython']\n",
      "Operating System Platform: Darwin 17.7.0\n",
      "\n",
      "\n",
      "Environment:\n",
      "\n",
      "homedir: /Users/renettej\n",
      "scriptpath: /Users/renettej/AAA_Github/ghub_exercise2/notebooks\n",
      "tooldir: /Users/renettej/AAA_Github/ghub_exercise2\n",
      "bindir: /Users/renettej/AAA_Github/ghub_exercise2/bin\n",
      "datadir: /Users/renettej/AAA_Github/ghub_exercise2/data\n",
      "workingdir: /Users/renettej/AAA_Github/ghub_exercise2/notebooks\n",
      "user: renettej\n",
      " \n",
      "sys.path : ['/Users/renettej/AAA_Github/ghub_exercise2/notebooks', '/Users/renettej/AAA_Github/ghub_exercise2/bin', '/Users/renettej/AAA_Github/ghub_exercise2/lib', '/Users/renettej/opt/anaconda3/lib/python38.zip', '/Users/renettej/opt/anaconda3/lib/python3.8', '/Users/renettej/opt/anaconda3/lib/python3.8/lib-dynload', '', '/Users/renettej/opt/anaconda3/lib/python3.8/site-packages', '/Users/renettej/opt/anaconda3/lib/python3.8/site-packages/aeosa', '/Users/renettej/opt/anaconda3/lib/python3.8/site-packages/locket-0.2.1-py3.8.egg', '/Users/renettej/opt/anaconda3/lib/python3.8/site-packages/IPython/extensions', '/Users/renettej/.ipython']\n",
      " \n",
      "os.environ['PATH']:  /Users/renettej/opt/anaconda3/bin:/Users/renettej/opt/anaconda3/condabin:/usr/local/bin:/usr/bin:/bin:/usr/sbin:/sbin:/opt/X11/bin:/Library/TeX/texbin\n",
      " \n"
     ]
    }
   ],
   "source": [
    "# TODO: Rename widgets to PEP 8 standard\n",
    "\n",
    "# Setup and preoprocessing:\n",
    "\n",
    "import sys\n",
    "import os\n",
    "import numpy as np\n",
    "import getpass\n",
    "import platform\n",
    "import atexit\n",
    "from IPython.display import display, HTML, Markdown, clear_output, Image, Javascript\n",
    "\n",
    "print (\"os.environ['PYTHONPATH']: \", os.environ['PYTHONPATH'])\n",
    "print ('sys.path: ', sys.path)\n",
    "\n",
    "\n",
    "'''\n",
    "import shutil\n",
    "import shlex\n",
    "import subprocess\n",
    "import math\n",
    "import numpy as np\n",
    "import pandas as pd\n",
    "import time\n",
    "import datetime\n",
    "\n",
    "import ipywidgets as widgets\n",
    "from IPython.display import display, HTML, Markdown, clear_output, Image, Javascript\n",
    "#import xml.etree.ElementTree as et\n",
    "\n",
    "#from sklearn.neighbors import DistanceMetric\n",
    "\n",
    "import hublib\n",
    "#print (help(hublib))\n",
    "import hublib.ui as ui\n",
    "#print (help(ui))\n",
    "#import hublib.use\n",
    "#print (help(hublib.use))\n",
    "\n",
    "#print ('shutil.which(\"python\"): ', shutil.which(\"python\")) #/apps/share64/debian7/anaconda/anaconda-6/bin/python\n",
    "\n",
    "# %use volcashexpwf_anaconda_6\n",
    "\n",
    "# The %use volcashexpwf_anaconda_6 is causing a site.py error when \n",
    "# hublib.cmd.command.executeCommand is called in Wrapper.py\n",
    "\n",
    "# workaround:\n",
    "\n",
    "#sys.path.append ('/apps/share64/debian10/anaconda/anaconda-6/envs/volcashexpwf_anaconda_6/lib/python3.7/site-packages')\n",
    "#print(\"sys.path: \", sys.path)\n",
    "\n",
    "#print(sys.path)\n",
    "print (\"os.environ['PATH']: \", os.environ['PATH'])\n",
    "'''\n",
    "# Set up the environment for this notebook\n",
    "\n",
    "self_user = getpass.getuser()\n",
    "\n",
    "# Set up path to the user's home directory\n",
    "self_homedir = os.path.expanduser(\"~\")\n",
    "\n",
    "# Setup paths to executables\n",
    "scriptpath = os.path.realpath('.')\n",
    "\n",
    "# Get the parent dirs\n",
    "self_tooldir = os.path.dirname(scriptpath)\n",
    "print ('self_tooldir: ', self_tooldir)\n",
    "\n",
    "# Setup path to python and bash scripts\n",
    "self_bindir = os.path.join(self_tooldir, 'bin')\n",
    "\n",
    "# Add to PYTHONPATH\n",
    "#sys.path.insert (1, self_bindir)\n",
    "\n",
    "# Setup path to python and bash scripts and puffin executables\n",
    "self_libdir = os.path.join(self_tooldir, 'lib')\n",
    "\n",
    "# Add to PYTHONPATH\n",
    "#sys.path.insert (2, self_libdir)\n",
    "\n",
    "print ('sys.path: ', sys.path)\n",
    "#'''\n",
    "\n",
    "from Utils import Tree\n",
    "\n",
    "# Setup path to python and bash scripts\n",
    "self_datadir = os.path.join(self_tooldir, 'data')\n",
    "\n",
    "# Set up path to the current session directory\n",
    "self_workingdir = os.getcwd()\n",
    "\n",
    "# Initialize the dated run directory.\n",
    "# Workflow results are not available until after a workflow is executed via Pegasus and completes\n",
    "self_rundir = \"\"\n",
    "\n",
    "# Configuration parameters\n",
    "\n",
    "import Configuration as cfg\n",
    "if cfg.VERBOSE == True:\n",
    "    print ('cfg.DISPERSION_MODEL: ', cfg.DISPERSION_MODEL, '\\n')\n",
    "\n",
    "np.set_printoptions(threshold=np.inf) \n",
    "\n",
    "self_log_filepath = os.path.join(self_workingdir, 'ghub_exercise1_log_file.txt')\n",
    "self_log_snapshot_filepath = os.path.join(self_workingdir, 'ghub_exercise1_log_snapshot_file.txt')\n",
    "self_log_backup_filepath = os.path.join(self_workingdir, 'ghub_exercise1_log_backup_file.txt')\n",
    "\n",
    "\n",
    "if (1): #cfg.VERBOSE == True:\n",
    "    \n",
    "    print (\"Operating System Platform: \" + platform.system(), platform.release())\n",
    "    print (\"\\n\")\n",
    "\n",
    "    print (\"Environment:\\n\")\n",
    "    print (\"homedir: \" + self_homedir)\n",
    "    print (\"scriptpath: \" + scriptpath)\n",
    "    print (\"tooldir: \" + self_tooldir)\n",
    "    print (\"bindir: \" + self_bindir)\n",
    "    print (\"datadir: \" + self_datadir)\n",
    "    print (\"workingdir: \" + self_workingdir)\n",
    "    print (\"user: \" + self_user)\n",
    "    print (\" \")\n",
    "    \n",
    "    #print (\"puffin_exe_filepath: \", puffin_exe_filepath)\n",
    "    #print (\" \")\n",
    "    \n",
    "    print (\"sys.path :\", sys.path)\n",
    "    print (\" \")\n",
    "    \n",
    "    print (\"os.environ['PATH']: \", os.environ[\"PATH\"])\n",
    "    print (\" \")\n",
    "\n",
    "widget_border_style = '1px solid black'\n",
    "widget_output_border_style = '1px solid black'\n",
    "\n",
    "BOLD = '\\033[1m'\n",
    "END = '\\033[0m'\n",
    "\n",
    "dropdown_str_width = 16\n",
    "\n",
    "dropdown_width = '965px'\n",
    "dropdown_height = '30px'\n",
    "button_width = '250px'\n",
    "button_height = '40px'\n",
    "ui_string_width = '96.5%'\n",
    "ui_dropdown_width = '96.2%'\n",
    "\n",
    "# Clean up: remove files from the data/results folder and the bin/__pycache__ folder\n",
    "def exit_handler():\n",
    "    \n",
    "    for file in os.listdir(self_workingdir):\n",
    "        \n",
    "        if os.path.isfile(file):\n",
    "            if file.endswith(\".txt\"):\n",
    "                if file != \"README.txt\":\n",
    "                    print (\"Deleting: %s\\n\" %file)\n",
    "                    os.remove(file)\n",
    "            #elif file.endswith(\".dax\"):\n",
    "                #print (\"Deleting: %s\\n\" %file)\n",
    "                #os.remove(file)\n",
    "            #elif file.endswith(\".stdout\"):\n",
    "                #print (\"Deleting: %s\\n\" %file)\n",
    "                #os.remove(file)\n",
    "            #elif file.endswith(\".stderr\"):\n",
    "                #print (\"Deleting: %s\\n\" %file)\n",
    "                #os.remove(file)\n",
    "\n",
    "    #dirpath = os.path.join(self_bindir, \"__pycache__\")\n",
    "    #if (os.path.exists(dirpath)):\n",
    "        #print (\"Deleting: %s\\n\" %dirpath)\n",
    "        #shutil.rmtree(dirpath)\n",
    "\n",
    "atexit.register(exit_handler);   "
   ]
  },
  {
   "cell_type": "code",
   "execution_count": 3,
   "metadata": {},
   "outputs": [],
   "source": [
    "# prevent In[] and Out[] from displaying on left\n",
    "#HTML('''\n",
    "#<style>.prompt{width: 0px; min-width: 0px; visibility: collapse}</style>\n",
    "#''')"
   ]
  },
  {
   "cell_type": "code",
   "execution_count": 4,
   "metadata": {},
   "outputs": [
    {
     "data": {
      "text/html": [
       "\n",
       "<script>\n",
       "    function scroll_to_top() {\n",
       "        Jupyter.notebook.scroll_to_top();\n",
       "    } \n",
       "    $( window ).on( \"load\", scroll_to_top() );\n",
       "</script>\n"
      ],
      "text/plain": [
       "<IPython.core.display.HTML object>"
      ]
     },
     "execution_count": 4,
     "metadata": {},
     "output_type": "execute_result"
    }
   ],
   "source": [
    "#https://api.jquery.com/ready/\n",
    "HTML('''\n",
    "<script>\n",
    "    function scroll_to_top() {\n",
    "        Jupyter.notebook.scroll_to_top();\n",
    "    } \n",
    "    $( window ).on( \"load\", scroll_to_top() );\n",
    "</script>\n",
    "''')"
   ]
  },
  {
   "cell_type": "code",
   "execution_count": 5,
   "metadata": {},
   "outputs": [
    {
     "data": {
      "text/html": [
       "\n",
       "<style>.buttontextclass { color:black ; font-size:130%}</style>\n"
      ],
      "text/plain": [
       "<IPython.core.display.HTML object>"
      ]
     },
     "execution_count": 5,
     "metadata": {},
     "output_type": "execute_result"
    }
   ],
   "source": [
    "# Button styles\n",
    "HTML('''\n",
    "<style>.buttontextclass { color:black ; font-size:130%}</style>\n",
    "''')"
   ]
  },
  {
   "cell_type": "code",
   "execution_count": 6,
   "metadata": {},
   "outputs": [
    {
     "name": "stdout",
     "output_type": "stream",
     "text": [
      "\n",
      "Directory tree of /Users/renettej/AAA_Github/ghub_exercise2/notebooks:\n",
      "\n",
      "├── .DS_Store\n",
      "├── .ipynb_checkpoints\n",
      "│   ├── ghub_exercise1-checkpoint.ipynb\n",
      "│   ├── ghub_exercise2-checkpoint.ipynb\n",
      "│   └── ghub_vhub_exercise2-checkpoint.ipynb\n",
      "└── ghub_exercise2.ipynb\n"
     ]
    }
   ],
   "source": [
    "print ('\\nDirectory tree of %s:\\n' %self_workingdir)\n",
    "results_tree = Tree(self_workingdir)\n",
    "results_tree.print_tree()\n"
   ]
  }
 ],
 "metadata": {
  "anaconda-cloud": {},
  "kernelspec": {
   "display_name": "Python 3",
   "language": "python",
   "name": "python3"
  },
  "language_info": {
   "codemirror_mode": {
    "name": "ipython",
    "version": 3
   },
   "file_extension": ".py",
   "mimetype": "text/x-python",
   "name": "python",
   "nbconvert_exporter": "python",
   "pygments_lexer": "ipython3",
   "version": "3.8.8"
  },
  "tool": false
 },
 "nbformat": 4,
 "nbformat_minor": 1
}
