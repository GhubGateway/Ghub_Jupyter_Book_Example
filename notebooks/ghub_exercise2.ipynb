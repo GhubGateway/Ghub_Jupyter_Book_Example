{
 "cells": [
  {
   "cell_type": "code",
   "execution_count": null,
   "metadata": {},
   "outputs": [],
   "source": [
    "#%load_ext autoreload\n",
    "#%autoreload 2"
   ]
  },
  {
   "cell_type": "markdown",
   "metadata": {},
   "source": [
    "### Display the current directory tree"
   ]
  },
  {
   "cell_type": "code",
   "execution_count": null,
   "metadata": {},
   "outputs": [],
   "source": [
    "# Setup and preoprocessing:\n",
    "\n",
    "import sys\n",
    "import os\n",
    "import numpy as np\n",
    "import getpass\n",
    "import platform\n",
    "import atexit\n",
    "from IPython.display import display, HTML, Markdown, clear_output, Image, Javascript\n",
    "\n",
    "# Setup paths to ../bin and ../lib.\n",
    "# Note: the ./middleware/invoke script will handle this when this tool is installed.\n",
    "\n",
    "scriptpath = os.path.realpath('.')\n",
    "\n",
    "# Get the parent dir\n",
    "self_tooldir = os.path.dirname(scriptpath)\n",
    "\n",
    "# Setup path to python and bash scripts\n",
    "self_bindir = os.path.join(self_tooldir, 'bin')\n",
    "self_libdir = os.path.join(self_tooldir, 'lib')\n",
    "\n",
    "# Add to PYTHONPATH\n",
    "sys.path.insert (1, self_bindir)\n",
    "sys.path.insert (2, self_libdir)\n",
    "\n",
    "# Set up path to the current data directory\n",
    "self_datadir = os.path.join(self_tooldir, 'data')\n",
    "\n",
    "# Set up path to the current session directory\n",
    "self_workingdir = os.getcwd()\n",
    "\n",
    "# Set up path to the user's home directory\n",
    "self_homedir = os.path.expanduser(\"~\")\n",
    "\n",
    "self_user = getpass.getuser()\n",
    "\n",
    "if (1): #cfg.VERBOSE == True:\n",
    "    \n",
    "    print (\"Operating System Platform: \" + platform.system(), platform.release())\n",
    "    print (\"\\n\")\n",
    "\n",
    "    print (\"Environment:\\n\")\n",
    "    print (\"homedir: \" + self_homedir)\n",
    "    print (\"scriptpath: \" + scriptpath)\n",
    "    print (\"tooldir: \" + self_tooldir)\n",
    "    print (\"bindir: \" + self_bindir)\n",
    "    print (\"libdir: \" + self_libdir)\n",
    "    print (\"datadir: \" + self_datadir)\n",
    "    print (\"workingdir: \" + self_workingdir)\n",
    "    print (\"user: \" + self_user)\n",
    "    print (\" \")\n",
    "    \n",
    "    #print (\"sys.path :\", sys.path)\n",
    "    #print (\" \")\n",
    "    \n",
    "    #print (\"os.environ['PATH']: \", os.environ[\"PATH\"])\n",
    "    #print (\" \")\n",
    "\n",
    "import Configuration as cfg\n",
    "from Utils import Tree\n",
    "\n",
    "widget_border_style = '1px solid black'\n",
    "widget_output_border_style = '1px solid black'\n",
    "\n",
    "BOLD = '\\033[1m'\n",
    "END = '\\033[0m'\n",
    "\n",
    "dropdown_str_width = 16\n",
    "\n",
    "dropdown_width = '965px'\n",
    "dropdown_height = '30px'\n",
    "button_width = '250px'\n",
    "button_height = '40px'\n",
    "ui_string_width = '96.5%'\n",
    "ui_dropdown_width = '96.2%'\n",
    "\n",
    "# Clean up: remove files from the data/results folder and the bin/__pycache__ folder\n",
    "def exit_handler():\n",
    "    \n",
    "    for file in os.listdir(self_workingdir):\n",
    "        \n",
    "        if os.path.isfile(file):\n",
    "            if file.endswith(\".txt\"):\n",
    "                if file != \"README.txt\":\n",
    "                    print (\"Deleting: %s\\n\" %file)\n",
    "                    os.remove(file)\n",
    "            #elif file.endswith(\".dax\"):\n",
    "                #print (\"Deleting: %s\\n\" %file)\n",
    "                #os.remove(file)\n",
    "            #elif file.endswith(\".stdout\"):\n",
    "                #print (\"Deleting: %s\\n\" %file)\n",
    "                #os.remove(file)\n",
    "            #elif file.endswith(\".stderr\"):\n",
    "                #print (\"Deleting: %s\\n\" %file)\n",
    "                #os.remove(file)\n",
    "\n",
    "    #dirpath = os.path.join(self_bindir, \"__pycache__\")\n",
    "    #if (os.path.exists(dirpath)):\n",
    "        #print (\"Deleting: %s\\n\" %dirpath)\n",
    "        #shutil.rmtree(dirpath)\n",
    "\n",
    "atexit.register(exit_handler);   "
   ]
  },
  {
   "cell_type": "code",
   "execution_count": null,
   "metadata": {},
   "outputs": [],
   "source": [
    "# prevent In[] and Out[] from displaying on left\n",
    "#HTML('''\n",
    "#<style>.prompt{width: 0px; min-width: 0px; visibility: collapse}</style>\n",
    "#''')"
   ]
  },
  {
   "cell_type": "code",
   "execution_count": null,
   "metadata": {},
   "outputs": [],
   "source": [
    "#https://api.jquery.com/ready/\n",
    "HTML('''\n",
    "<script>\n",
    "    function scroll_to_top() {\n",
    "        Jupyter.notebook.scroll_to_top();\n",
    "    } \n",
    "    $( window ).on( \"load\", scroll_to_top() );\n",
    "</script>\n",
    "''')"
   ]
  },
  {
   "cell_type": "code",
   "execution_count": null,
   "metadata": {},
   "outputs": [],
   "source": [
    "# Button styles\n",
    "HTML('''\n",
    "<style>.buttontextclass { color:black ; font-size:130%}</style>\n",
    "''')"
   ]
  },
  {
   "cell_type": "code",
   "execution_count": null,
   "metadata": {},
   "outputs": [],
   "source": [
    "print ('\\nDirectory tree of %s:\\n' %self_workingdir)\n",
    "results_tree = Tree(self_workingdir)\n",
    "results_tree.print_tree()\n"
   ]
  }
 ],
 "metadata": {
  "anaconda-cloud": {},
  "kernelspec": {
   "display_name": "Python 3 (ipykernel)",
   "language": "python",
   "name": "python3"
  },
  "language_info": {
   "codemirror_mode": {
    "name": "ipython",
    "version": 3
   },
   "file_extension": ".py",
   "mimetype": "text/x-python",
   "name": "python",
   "nbconvert_exporter": "python",
   "pygments_lexer": "ipython3",
   "version": "3.8.10"
  },
  "tool": false
 },
 "nbformat": 4,
 "nbformat_minor": 1
}
