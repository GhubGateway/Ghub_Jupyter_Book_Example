{
 "cells": [
  {
   "cell_type": "code",
   "execution_count": null,
   "metadata": {},
   "outputs": [],
   "source": [
    "#%load_ext autoreload\n",
    "#%autoreload 2"
   ]
  },
  {
   "cell_type": "markdown",
   "metadata": {},
   "source": [
    "## ghub_exercise2_notebook1"
   ]
  },
  {
   "cell_type": "code",
   "execution_count": null,
   "metadata": {},
   "outputs": [],
   "source": [
    "# Setup and preprocessing:\n",
    "\n",
    "import os\n",
    "import platform\n",
    "import sys\n",
    "\n",
    "scriptpath = os.path.realpath(\".\")\n",
    "\n",
    "# Set up path to the tool directory\n",
    "self_tooldir = os.path.dirname(scriptpath)\n",
    "\n",
    "# Add ./lib to PYTHONPATH.\n",
    "# Note: the ./middleware/invoke script will handle this when this tool is installed\n",
    "self_libdir = os.path.join(self_tooldir, \"lib\")\n",
    "sys.path.insert (1, self_libdir)\n",
    "\n",
    "import Utils as utils\n",
    "#help(utils)\n",
    "\n",
    "if utils.Configuration.VERBOSE == True:\n",
    "    \n",
    "    print (\"Operating System Platform: \" + platform.system(), platform.release())\n",
    "    print (\"\\n\")\n",
    "\n",
    "    print (\"os.environ['PATH']: \", os.environ['PATH'])\n",
    "    print (\"sys.path: \", sys.path)\n",
    "    print (\"\\n\")\n",
    "\n",
    "    print (\"Environment:\\n\")\n",
    "    print (\"tooldir: \" + self_tooldir)\n",
    "    print (\"libdir: \" + self_libdir)\n",
    "    print (\"\\n\")\n",
    "\n"
   ]
  },
  {
   "cell_type": "code",
   "execution_count": null,
   "metadata": {},
   "outputs": [],
   "source": [
    "print ('\\nDirectory tree of %s:\\n' %os.getcwd())\n",
    "results_tree = utils.Tree(os.getcwd())\n",
    "results_tree.print_tree()\n"
   ]
  }
 ],
 "metadata": {
  "anaconda-cloud": {},
  "kernelspec": {
   "display_name": "Python 3 (ipykernel)",
   "language": "python",
   "name": "python3"
  },
  "language_info": {
   "codemirror_mode": {
    "name": "ipython",
    "version": 3
   },
   "file_extension": ".py",
   "mimetype": "text/x-python",
   "name": "python",
   "nbconvert_exporter": "python",
   "pygments_lexer": "ipython3",
   "version": "3.8.10"
  },
  "tool": false
 },
 "nbformat": 4,
 "nbformat_minor": 1
}
